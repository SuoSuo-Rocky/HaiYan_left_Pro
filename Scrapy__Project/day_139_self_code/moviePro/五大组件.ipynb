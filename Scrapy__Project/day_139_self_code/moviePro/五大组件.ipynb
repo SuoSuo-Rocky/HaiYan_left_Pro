{
 "cells": [
  {
   "cell_type": "code",
   "execution_count": null,
   "metadata": {
    "collapsed": true
   },
   "outputs": [],
   "source": [
    "# Spider的作用: \n",
    "    - 产生大量的 URL  发送给 Engine\n",
    "    - parse() 对数据的解析\n",
    "    - 将解析的数据封装到 Item 中，将 Item 发送给 引擎\n",
    "# 调度器 : 存在队列 和 过滤类\n",
    "    - 队列 : 存储 请求对象，进队列 之前 URL  经过 过滤类的过滤\n",
    "    - 调度 URL 发送 给 Engine\n",
    "# 引擎 :  用于触发事务 和 处理流数据\n",
    "    - 将 从调度器传入的 URL 发送 给下载器\n",
    "    - 将 从下载器传入的Reponse 对象赋值给 Spider 中 的回调函数的参数 Reponse\n",
    "    - 将 从Spider 传入的 Item 对象传入 管道 \n",
    "# 下载器:\n",
    "    - 根据 从 引擎 传入的 URL 到互联网上 下载数据,封装到响应对象中\n",
    "    - 将 响应对象 发送给引擎\n",
    "# 管道: \n",
    "    - 将 从引擎 传入的 Item 对象 进行持久化保存数据\n",
    "\n",
    "# 所有的数据流 都经过引擎 \n",
    "\n",
    "# 下载器中间件:\n",
    "    - 对请求进行 代理 IP 的设置\n",
    "    - 对 一批 请求进行 设置不同 的 UA 伪装\n",
    "    - 处理 动态加载的 数据\n",
    "# settings 中的 UA 伪装作用于 所有的 请求\n",
    "\n",
    "\n"
   ]
  }
 ],
 "metadata": {
  "kernelspec": {
   "display_name": "Python 2",
   "language": "python",
   "name": "python2"
  },
  "language_info": {
   "codemirror_mode": {
    "name": "ipython",
    "version": 2
   },
   "file_extension": ".py",
   "mimetype": "text/x-python",
   "name": "python",
   "nbconvert_exporter": "python",
   "pygments_lexer": "ipython2",
   "version": "2.7.6"
  }
 },
 "nbformat": 4,
 "nbformat_minor": 0
}
